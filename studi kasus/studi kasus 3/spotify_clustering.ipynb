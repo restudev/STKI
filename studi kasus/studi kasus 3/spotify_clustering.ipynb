{
 "cells": [
  {
   "cell_type": "code",
   "execution_count": 1,
   "id": "d550ba6f-ce66-4a8e-ae4d-cb17a60fe428",
   "metadata": {},
   "outputs": [],
   "source": [
    "import streamlit as st\n",
    "import pandas as pd\n",
    "import numpy as np\n",
    "from sklearn.cluster import KMeans\n",
    "from sklearn.decomposition import PCA\n",
    "import plotly.express as px\n",
    "import base64\n",
    "from requests import post, get\n",
    "import json\n",
    "import csv\n",
    "from sklearn import preprocessing\n",
    "import base64"
   ]
  },
  {
   "cell_type": "code",
   "execution_count": 2,
   "id": "678e73ec-a799-4f8a-bc3f-b54cc6c3ed4b",
   "metadata": {},
   "outputs": [],
   "source": [
    "client_id = '1a6d9136ad4149f382fb566ef926c3b5' ##ganti variabel dengan client_id milik anda\n",
    "client_secret = 'bcf82fc4f4fa40e8882a3e2bcf0df814' ##ganti variabel dengan client_secret milik anda\n",
    "playlistId = '1inVPhYK6TDVlKqZbApdcl'\n",
    "\n",
    "## 37i9dQZF1DXbrUpGvoi3TS - 1(similar sad songs)\n",
    "## 1dtCMTYzAOzwKXqklxPJNS - 2(old songs, rock, rap)\n",
    "## 0IN7IWKmIfwlEysGyWUuRg - 3(mix of modern electronic, pop, and rock)\n",
    "\n",
    "dataset = []\n",
    "dataset2 = []\n",
    "dataset3 = []"
   ]
  },
  {
   "cell_type": "code",
   "execution_count": 3,
   "id": "7e7245d0-d4f9-4e88-96b8-558388c280d3",
   "metadata": {},
   "outputs": [],
   "source": [
    "def getToken():\n",
    "    # gabungkan client_id dan client_secret\n",
    "    auth_string = client_id + ':' + client_secret\n",
    "\n",
    "    # encode ke base64\n",
    "    auth_b64 = base64.b64encode(auth_string.encode('utf-8'))\n",
    "\n",
    "    # url untuk mengambil token\n",
    "    url = 'https://accounts.spotify.com/api/token'\n",
    "\n",
    "    # header untuk mengambil token - sesuai dengan guide dari spotify\n",
    "    headers = {\n",
    "        'Authorization': 'Basic ' + auth_b64.decode('utf-8'),\n",
    "        'Content-Type': 'application/x-www-form-urlencoded'\n",
    "    }\n",
    "\n",
    "    # data untuk mengambil token - sesuai dengan guide dari spotify\n",
    "    data = {'grant_type': 'client_credentials'}\n",
    "\n",
    "    # kirim request POST ke spotify\n",
    "    result = post(url, headers=headers, data=data)\n",
    "\n",
    "    # parse response ke json\n",
    "    json_result = json.loads(result.content)\n",
    "    token = json_result['access_token']\n",
    "\n",
    "    # ambil token untuk akses API\n",
    "    return token\n",
    "\n",
    "## panggil fungsi getToken() dibawah ini"
   ]
  },
  {
   "cell_type": "code",
   "execution_count": 4,
   "id": "8200efc6-3c22-446a-a17b-a9471f880812",
   "metadata": {},
   "outputs": [],
   "source": [
    "## pengambilan token untuk otorisasi API\n",
    "def getAuthHeader(token):\n",
    "    return {'Authorization': 'Bearer ' + token}"
   ]
  },
  {
   "cell_type": "code",
   "execution_count": 5,
   "id": "c97a98cd-ee76-4212-82a6-d03270f82dc0",
   "metadata": {},
   "outputs": [],
   "source": [
    "## pengambilan audio features dari track (lagu)\n",
    "def getAudioFeatures(token, trackId):\n",
    "    # endpoint untuk akses playlist\n",
    "    url = f'https://api.spotify.com/v1/audio-features/{trackId}'\n",
    "    # ambil token untuk otorisasi, gunakan sebagai header\n",
    "    headers = getAuthHeader(token)\n",
    "    result = get(url, headers=headers)  # kirim request GET ke spotify\n",
    "    json_result = json.loads(result.content)  # parse response ke json\n",
    "\n",
    "    # ambil data yang diperlukan dari response\n",
    "    audio_features_temp = [\n",
    "        json_result['danceability'],\n",
    "        json_result['energy'],\n",
    "        json_result['key'],\n",
    "        json_result['loudness'],\n",
    "        json_result['mode'],\n",
    "        json_result['speechiness'],\n",
    "        json_result['acousticness'],\n",
    "        json_result['instrumentalness'],\n",
    "        json_result['liveness'],\n",
    "        json_result['valence'],\n",
    "        json_result['tempo'],\n",
    "    ]\n",
    "    dataset2.append(audio_features_temp)"
   ]
  },
  {
   "cell_type": "code",
   "execution_count": 11,
   "id": "4739d70e-24c5-481e-a323-3d624d00d31e",
   "metadata": {},
   "outputs": [
    {
     "name": "stdout",
     "output_type": "stream",
     "text": [
      "access token : BQBT46CRBqZGHCR9hf4WIaT2VOYd7S4UgpRSrkhvNouq0Uek-Tggb28NPs6sfhG1VmczZUszj9nEHyoG1UJ-FCVQiOxytIneZFdTvwYP089bDWI3Aao\n"
     ]
    },
    {
     "ename": "IndexError",
     "evalue": "list index out of range",
     "output_type": "error",
     "traceback": [
      "\u001b[1;31m---------------------------------------------------------------------------\u001b[0m",
      "\u001b[1;31mIndexError\u001b[0m                                Traceback (most recent call last)",
      "Cell \u001b[1;32mIn[11], line 50\u001b[0m\n\u001b[0;32m     48\u001b[0m token \u001b[38;5;241m=\u001b[39m getToken()\n\u001b[0;32m     49\u001b[0m \u001b[38;5;28mprint\u001b[39m(\u001b[38;5;124m'\u001b[39m\u001b[38;5;124maccess token : \u001b[39m\u001b[38;5;124m'\u001b[39m\u001b[38;5;241m+\u001b[39mtoken)\n\u001b[1;32m---> 50\u001b[0m \u001b[43mgetPlaylistItems\u001b[49m\u001b[43m(\u001b[49m\u001b[43mtoken\u001b[49m\u001b[43m,\u001b[49m\u001b[43m \u001b[49m\u001b[43mplaylistId\u001b[49m\u001b[43m)\u001b[49m\n",
      "Cell \u001b[1;32mIn[11], line 38\u001b[0m, in \u001b[0;36mgetPlaylistItems\u001b[1;34m(token, playlistId)\u001b[0m\n\u001b[0;32m     36\u001b[0m \u001b[38;5;66;03m# gabungkan dataset dan dataset2\u001b[39;00m\n\u001b[0;32m     37\u001b[0m \u001b[38;5;28;01mfor\u001b[39;00m i \u001b[38;5;129;01min\u001b[39;00m \u001b[38;5;28mrange\u001b[39m(\u001b[38;5;28mlen\u001b[39m(dataset)):\n\u001b[1;32m---> 38\u001b[0m     dataset3\u001b[38;5;241m.\u001b[39mappend(dataset[i]\u001b[38;5;241m+\u001b[39m\u001b[43mdataset2\u001b[49m\u001b[43m[\u001b[49m\u001b[43mi\u001b[49m\u001b[43m]\u001b[49m)\n\u001b[0;32m     40\u001b[0m \u001b[38;5;28mprint\u001b[39m(dataset3)\n\u001b[0;32m     41\u001b[0m \u001b[38;5;66;03m# convert dataset3 into csv\u001b[39;00m\n",
      "\u001b[1;31mIndexError\u001b[0m: list index out of range"
     ]
    }
   ],
   "source": [
    "# pengambilan track (lagu) dari playlist\n",
    "def getPlaylistItems(token, playlistId):\n",
    "    # endpoint untuk akses playlist\n",
    "    url = f'https://api.spotify.com/v1/playlists/{playlistId}/tracks'\n",
    "    limit = '&limit=100'  # batas maksimal track yang diambil\n",
    "    market = '?market=ID'  # negara yang tempat aplikasi diakses\n",
    "    # format data dari track yang diambil\n",
    "    fields = '&fields=items%28track%28id%2Cname%2Cartists%2Cpopularity%2C+duration_ms%2C+album%28release_date%29%29%29'\n",
    "    url = url+market+fields+limit  # gabungkan semua parameter\n",
    "    # ambil token untuk otorisasi, gunakan sebagai header\n",
    "    headers = getAuthHeader(token)\n",
    "    result = get(url, headers=headers)  # kirim request GET ke spotify\n",
    "    json_result = json.loads(result.content)  # parse response ke json\n",
    "    # print(json_result)\n",
    "\n",
    "    # ambil data yang diperlukan dari response\n",
    "    for i in range(len(json_result['items'])):\n",
    "        playlist_items_temp = []\n",
    "        playlist_items_temp.append(json_result['items'][i]['track']['id'])\n",
    "        playlist_items_temp.append(\n",
    "            json_result['items'][i]['track']['name'].encode('utf-8'))\n",
    "        playlist_items_temp.append(\n",
    "            json_result['items'][i]['track']['artists'][0]['name'].encode('utf-8'))\n",
    "        playlist_items_temp.append(\n",
    "            json_result['items'][i]['track']['popularity'])\n",
    "        playlist_items_temp.append(\n",
    "            json_result['items'][i]['track']['duration_ms'])\n",
    "        playlist_items_temp.append(\n",
    "            int(json_result['items'][i]['track']['album']['release_date'][0:4]))\n",
    "        dataset.append(playlist_items_temp)\n",
    "\n",
    "    # ambil audio features dari semua track di dalam playlist\n",
    "    for i in range(len(dataset)):\n",
    "        getAudioFeatures(token, dataset[i][0])\n",
    "\n",
    "    # gabungkan dataset dan dataset2\n",
    "    for i in range(len(dataset)):\n",
    "        dataset3.append(dataset[i]+dataset2[i])\n",
    "\n",
    "    print(dataset3)\n",
    "    # convert dataset3 into csv\n",
    "    with open('dataset.csv', 'w', newline='') as file:\n",
    "        writer = csv.writer(file)\n",
    "        writer.writerow([\"id\", \"name\", \"artist\", \"popularity\", \"duration_ms\", \"year\", \"danceability\", \"energy\", \"key\", \"loudness\", \"mode\",\n",
    "                         \"speechiness\", \"acousticness\", \"instrumentalness\", \"liveness\", \"valence\", \"tempo\"])\n",
    "        writer.writerows(dataset3)\n",
    "\n",
    "token = getToken()\n",
    "print('access token : '+token)\n",
    "getPlaylistItems(token, playlistId)"
   ]
  },
  {
   "cell_type": "code",
   "execution_count": null,
   "id": "fc634b3d-ce82-43d9-8eff-05aed0a406fb",
   "metadata": {},
   "outputs": [],
   "source": [
    "import pandas as pd\n",
    "import numpy as np\n",
    "\n",
    "from sklearn.cluster import KMeans\n",
    "from sklearn.decomposition import PCA\n",
    "\n",
    "import plotly.express as px \n",
    "\n",
    "## muat dataset\n",
    "data = pd.read_csv('dataset.csv')\n",
    "data.head()"
   ]
  },
  {
   "cell_type": "code",
   "execution_count": 9,
   "id": "66ed7bf0-10dc-4f7c-b535-86fdc2572a88",
   "metadata": {},
   "outputs": [
    {
     "data": {
      "text/html": [
       "<div>\n",
       "<style scoped>\n",
       "    .dataframe tbody tr th:only-of-type {\n",
       "        vertical-align: middle;\n",
       "    }\n",
       "\n",
       "    .dataframe tbody tr th {\n",
       "        vertical-align: top;\n",
       "    }\n",
       "\n",
       "    .dataframe thead th {\n",
       "        text-align: right;\n",
       "    }\n",
       "</style>\n",
       "<table border=\"1\" class=\"dataframe\">\n",
       "  <thead>\n",
       "    <tr style=\"text-align: right;\">\n",
       "      <th></th>\n",
       "      <th>id</th>\n",
       "      <th>name</th>\n",
       "      <th>artist</th>\n",
       "      <th>popularity</th>\n",
       "      <th>duration_ms</th>\n",
       "      <th>year</th>\n",
       "      <th>danceability</th>\n",
       "      <th>energy</th>\n",
       "      <th>key</th>\n",
       "      <th>loudness</th>\n",
       "      <th>mode</th>\n",
       "      <th>speechiness</th>\n",
       "      <th>acousticness</th>\n",
       "      <th>instrumentalness</th>\n",
       "      <th>liveness</th>\n",
       "      <th>valence</th>\n",
       "      <th>tempo</th>\n",
       "    </tr>\n",
       "  </thead>\n",
       "  <tbody>\n",
       "  </tbody>\n",
       "</table>\n",
       "</div>"
      ],
      "text/plain": [
       "Empty DataFrame\n",
       "Columns: [id, name, artist, popularity, duration_ms, year, danceability, energy, key, loudness, mode, speechiness, acousticness, instrumentalness, liveness, valence, tempo]\n",
       "Index: []"
      ]
     },
     "execution_count": 9,
     "metadata": {},
     "output_type": "execute_result"
    }
   ],
   "source": [
    "## Hapus karakter yang tidak perlu pada kolom artist dan name\n",
    "data['artist'] = data['artist'].map(lambda x: str(x)[2:-1])\n",
    "data['name'] = data['name'].map(lambda x: str(x)[2:-1])\n",
    "\n",
    "data.head()"
   ]
  },
  {
   "cell_type": "code",
   "execution_count": 10,
   "id": "9c16dcf5-919b-4bf7-aeb6-87647f9a4164",
   "metadata": {},
   "outputs": [
    {
     "data": {
      "text/html": [
       "<div>\n",
       "<style scoped>\n",
       "    .dataframe tbody tr th:only-of-type {\n",
       "        vertical-align: middle;\n",
       "    }\n",
       "\n",
       "    .dataframe tbody tr th {\n",
       "        vertical-align: top;\n",
       "    }\n",
       "\n",
       "    .dataframe thead th {\n",
       "        text-align: right;\n",
       "    }\n",
       "</style>\n",
       "<table border=\"1\" class=\"dataframe\">\n",
       "  <thead>\n",
       "    <tr style=\"text-align: right;\">\n",
       "      <th></th>\n",
       "      <th>id</th>\n",
       "      <th>name</th>\n",
       "      <th>artist</th>\n",
       "      <th>popularity</th>\n",
       "      <th>duration_ms</th>\n",
       "      <th>year</th>\n",
       "      <th>danceability</th>\n",
       "      <th>energy</th>\n",
       "      <th>key</th>\n",
       "      <th>loudness</th>\n",
       "      <th>mode</th>\n",
       "      <th>speechiness</th>\n",
       "      <th>acousticness</th>\n",
       "      <th>instrumentalness</th>\n",
       "      <th>liveness</th>\n",
       "      <th>valence</th>\n",
       "      <th>tempo</th>\n",
       "    </tr>\n",
       "  </thead>\n",
       "  <tbody>\n",
       "  </tbody>\n",
       "</table>\n",
       "</div>"
      ],
      "text/plain": [
       "Empty DataFrame\n",
       "Columns: [id, name, artist, popularity, duration_ms, year, danceability, energy, key, loudness, mode, speechiness, acousticness, instrumentalness, liveness, valence, tempo]\n",
       "Index: []"
      ]
     },
     "execution_count": 10,
     "metadata": {},
     "output_type": "execute_result"
    }
   ],
   "source": [
    "##delete empty string in name column\n",
    "data = data[data['name'] != '']\n",
    "\n",
    "##reset index\n",
    "data = data.reset_index(drop=True)\n",
    "data.head()"
   ]
  },
  {
   "cell_type": "code",
   "execution_count": null,
   "id": "19e76d22-fe7a-4a04-9662-2d463f1e0316",
   "metadata": {},
   "outputs": [],
   "source": []
  },
  {
   "cell_type": "code",
   "execution_count": null,
   "id": "ae576a3a-1e8f-4c72-ae84-e5969bdceb60",
   "metadata": {},
   "outputs": [],
   "source": []
  },
  {
   "cell_type": "code",
   "execution_count": null,
   "id": "da3a620a-26f0-4ae6-b321-a5dc347545e0",
   "metadata": {},
   "outputs": [],
   "source": []
  }
 ],
 "metadata": {
  "kernelspec": {
   "display_name": "Python 3 (ipykernel)",
   "language": "python",
   "name": "python3"
  },
  "language_info": {
   "codemirror_mode": {
    "name": "ipython",
    "version": 3
   },
   "file_extension": ".py",
   "mimetype": "text/x-python",
   "name": "python",
   "nbconvert_exporter": "python",
   "pygments_lexer": "ipython3",
   "version": "3.12.2"
  }
 },
 "nbformat": 4,
 "nbformat_minor": 5
}
