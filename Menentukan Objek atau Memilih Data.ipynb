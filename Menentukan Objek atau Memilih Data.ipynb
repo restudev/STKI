{
 "cells": [
  {
   "cell_type": "markdown",
   "id": "f704c855-4bdf-4ec8-9568-f6e7207f37ef",
   "metadata": {},
   "source": [
    "## MENENTUKAN OBJEK ATAU MEMILIH DATA"
   ]
  },
  {
   "cell_type": "markdown",
   "id": "e8ad7ea4-992a-441d-b1ce-16756a2304bf",
   "metadata": {},
   "source": [
    "### 5.1 Menentukan Sumber Data\n",
    "Sumber data merupakan tempat atau lokasi sebuah data disimpan dan atau diakses untuk dapat dilakukan analisis serta penggunaan lainnya. Pemilihan sumber data harus mempertimbangkan sebuah kendala, akurasi, ketersediaan, serta relvansi data dengan tujuan analisis atau model dari machine learning yang akan digunakan atau di bangun.\n",
    "\n",
    "### 5.2 Menelaah Susunan Data\n",
    "- Melakukan pemeriksaan struktur data untuk memahami bagaimana data diorganisir.\n",
    "- Melihat dimensi data, jumlah atribut/kolom, dan jumlah sampel/baris.\n",
    "- Menilai apakah data terstruktur (misalnya, data tabel) atau tidak terstruktur (misalnya, data teks atau gambar).\n",
    "\n",
    "### 5.3 Menentukan Tipe dan Model Data yang dimiliki\n",
    "- Identifikasi tipe data untuk setiap atribut (numerik, kategorikal, teks, tanggal, dll.).\n",
    "- Penentuan model data yang sesuai untuk analisis atau model machine learning berdasarkan tipe data.\n",
    "- Pemahaman tentang apakah data bersifat kontinu, diskret, ordinal, atau nominal.\n",
    "\n",
    "### 5.4 Mengambil Data\n",
    "- Proses pengambilan data dari sumber data ke lingkungan analisis atau pengembangan model machine learning.\n",
    "- Menggunakan berbagai metode seperti mengimpor file data (misalnya CSV, Excel), mengakses database, atau menggunakan API untuk mengambil data dari sumber online.\n",
    "\n",
    "### 5.5 Menelaah Data dalam Machine Learning\n",
    "- Melakukan eksplorasi data (data exploration) untuk memahami karakteristik data secara lebih mendalam.\n",
    "- Visualisasi data dengan grafik atau plot untuk memahami pola, distribusi, dan korelasi antara atribut.\n",
    "- Identifikasi missing value, outlier, dan data yang tidak konsisten untuk diatasi sebelum analisis atau pemodelan.\n",
    "\n",
    "### 5.6 Sampling Data\n",
    "Sampling adalah teknik utama yang digunakan untuk reduksi data. Sampling data adalah proses pengambilan sebagian kecil dari suatu populasi untuk mewakili seluruh populasi dengan tujuan mengambil kesimpulan atau membuat estimasi. Sampling sering digunakan untuk investigasi awal data dan analisis data akhir.\n",
    "1. Tujuan Sampling Data\n",
    "   \n",
    "   - Mendapatkan data yang relevan dengan penelitian.\n",
    "   - Dapat memberikan estimasi yang akurat jika dilakukan dengan benar.\n",
    "   - Dijadikan acuan untuk mengambil kesimpulan, saran, dan keputusan setelah penelitian dilakukan.\n",
    "     \n",
    "3. Keuntungan Sampling Data\n",
    "   \n",
    "   - Dapat menghemat waktu, biaya, dan sumber daya dengan tidak mengumpulkan data dari seluruh populasi.\n",
    "   - Hasil pemeriksaan sampel sangat obyektif dan dapat dipertahankan (objective and defensible).\n",
    "   - Memungkinkan untuk memperkirakan besarnya kesalahan sampling (sampling error).\n",
    "   - Sesuai digunakan saat mengambil kesimpulan tentang data dalam jumlah yang banyak.\n",
    "   - Dapat menentukan banyaknya elemen sampel (sample size) sebelum pemeriksaan dilakukan.\n",
    "     \n",
    "4. Metode Sampling\n",
    "   \n",
    "   1. Random Sampling\n",
    "     - Setiap anggota populasi memiliki kesempatan yang sama untuk dipilih.\n",
    "       - Keuntungan : menghasilkan sampel yang representatif jika dilakukan dengan benar, meminimalisir bias, dan bisa mengetahui standar error dari penelitian.\n",
    "       - Kekurangan : sampel yang diambil kemungkinan tidak mewakili populasi yang ditentukan.\n",
    "         \n",
    "   2. Stratified Sampling\n",
    "      - Teknik pengambilan sampel jenis ini dilakukan dengan membagi populasi ke dalam tingkatan atau strata tertentu yakni tinggi, sedang, dan rendah. Kemudian diambil sampel tiap tingkatan tersebut.\n",
    "      - Memastikan setiap kelompok diwakili dalam sampel."
   ]
  },
  {
   "cell_type": "code",
   "execution_count": 1,
   "id": "cbad8e67-614b-4fb5-8a13-bd4f50244aa0",
   "metadata": {},
   "outputs": [
    {
     "name": "stdout",
     "output_type": "stream",
     "text": [
      "DataFrame Asli:\n",
      "   feature_0  feature_1  feature_2  feature_3  target\n",
      "0        5.1        3.5        1.4        0.2       0\n",
      "1        4.9        3.0        1.4        0.2       0\n",
      "2        4.7        3.2        1.3        0.2       0\n",
      "3        4.6        3.1        1.5        0.2       0\n",
      "4        5.0        3.6        1.4        0.2       0\n",
      "5        5.4        3.9        1.7        0.4       0\n",
      "6        4.6        3.4        1.4        0.3       0\n",
      "7        5.0        3.4        1.5        0.2       0\n",
      "8        4.4        2.9        1.4        0.2       0\n",
      "9        4.9        3.1        1.5        0.1       0\n",
      "\n",
      "DataFrame Setelah Random Sampling:\n",
      "     feature_0  feature_1  feature_2  feature_3  target\n",
      "14         5.8        4.0        1.2        0.2       0\n",
      "98         5.1        2.5        3.0        1.1       1\n",
      "75         6.6        3.0        4.4        1.4       1\n",
      "16         5.4        3.9        1.3        0.4       0\n",
      "131        7.9        3.8        6.4        2.0       2\n",
      "56         6.3        3.3        4.7        1.6       1\n",
      "141        6.9        3.1        5.1        2.3       2\n",
      "44         5.1        3.8        1.9        0.4       0\n",
      "29         4.7        3.2        1.6        0.2       0\n",
      "120        6.9        3.2        5.7        2.3       2\n"
     ]
    }
   ],
   "source": [
    "#Random Sampling\n",
    "    import pandas as pd\n",
    "    from sklearn.datasets import load_iris\n",
    "    from sklearn.model_selection import train_test_split\n",
    "\n",
    "    # Load dataset Iris\n",
    "    iris = load_iris()\n",
    "    X = iris.data\n",
    "    y = iris.target\n",
    "\n",
    "    # Buat DataFrame\n",
    "    df = pd.DataFrame(data=X, columns=[f'feature_{i}' for i in range(X.shape[1])])\n",
    "    df['target'] = y\n",
    "\n",
    "    # Tampilan DataFrame asli\n",
    "    print(\"DataFrame Asli:\")\n",
    "    print(df.head(10))\n",
    "\n",
    "    # Random Sampling\n",
    "    sampled_df = df.sample(n=50, random_state=1)  # Ambil 50 sampel secara acak\n",
    "    print(\"\\nDataFrame Setelah Random Sampling:\")\n",
    "    print(sampled_df.head(10))"
   ]
  },
  {
   "cell_type": "code",
   "execution_count": 7,
   "id": "ce4d13e8-290c-467b-a069-8e3b1818c88e",
   "metadata": {},
   "outputs": [
    {
     "name": "stdout",
     "output_type": "stream",
     "text": [
      "DataFrame Asli:\n",
      "   feature_0  feature_1  feature_2  feature_3  target\n",
      "0        5.1        3.5        1.4        0.2       0\n",
      "1        4.9        3.0        1.4        0.2       0\n",
      "2        4.7        3.2        1.3        0.2       0\n",
      "3        4.6        3.1        1.5        0.2       0\n",
      "4        5.0        3.6        1.4        0.2       0\n",
      "5        5.4        3.9        1.7        0.4       0\n",
      "6        4.6        3.4        1.4        0.3       0\n",
      "7        5.0        3.4        1.5        0.2       0\n",
      "8        4.4        2.9        1.4        0.2       0\n",
      "9        4.9        3.1        1.5        0.1       0\n",
      "\n",
      "DataFrame Setelah Stratified Sampling:\n",
      "     feature_0  feature_1  feature_2  feature_3  target\n",
      "27         5.2        3.5        1.5        0.2       0\n",
      "35         5.0        3.2        1.2        0.2       0\n",
      "77         6.7        3.0        5.0        1.7       1\n",
      "85         6.0        3.4        4.5        1.6       1\n",
      "127        6.1        3.0        4.9        1.8       2\n",
      "135        7.7        3.0        6.1        2.3       2\n"
     ]
    },
    {
     "name": "stderr",
     "output_type": "stream",
     "text": [
      "C:\\Users\\Nila Farihah\\AppData\\Local\\Temp\\ipykernel_12736\\66700929.py:20: DeprecationWarning: DataFrameGroupBy.apply operated on the grouping columns. This behavior is deprecated, and in a future version of pandas the grouping columns will be excluded from the operation. Either pass `include_groups=False` to exclude the groupings or explicitly select the grouping columns after groupby to silence this warning.\n",
      "  stratified_sample = df.groupby('target', group_keys=False).apply(lambda x: x.sample(2, random_state=1))\n"
     ]
    }
   ],
   "source": [
    "#Stratified Sampling\n",
    "import pandas as pd\n",
    "from sklearn.datasets import load_iris\n",
    "from sklearn.model_selection import train_test_split\n",
    "\n",
    "    # Load dataset Iris\n",
    "iris = load_iris()\n",
    "X = iris.data\n",
    "y = iris.target\n",
    "\n",
    "    # Buat DataFrame\n",
    "df = pd.DataFrame(data=X, columns=[f'feature_{i}' for i in range(X.shape[1])])\n",
    "df['target'] = y\n",
    "\n",
    "    # Tampilan DataFrame asli\n",
    "print(\"DataFrame Asli:\")\n",
    "print(df.head(10))\n",
    "\n",
    "    # Stratified Sampling berdasarkan variabel 'target' \n",
    "stratified_sample = df.groupby('target', group_keys=False).apply(lambda x: x.sample(2, random_state=1))\n",
    "print(\"\\nDataFrame Setelah Stratified Sampling:\")\n",
    "print(stratified_sample)"
   ]
  },
  {
   "cell_type": "code",
   "execution_count": null,
   "id": "c175aa52-0ea3-4c06-a365-1d39a22958f4",
   "metadata": {},
   "outputs": [],
   "source": []
  },
  {
   "cell_type": "code",
   "execution_count": 1,
   "id": "f7d71f8a-90ca-4a9c-8325-181f9c25306b",
   "metadata": {},
   "outputs": [
    {
     "name": "stdout",
     "output_type": "stream",
     "text": [
      "DataFrame Asli:\n",
      "   feature_0  feature_1  feature_2  feature_3  target\n",
      "0        5.1        3.5        1.4        0.2       0\n",
      "1        4.9        3.0        1.4        0.2       0\n",
      "2        4.7        3.2        1.3        0.2       0\n",
      "3        4.6        3.1        1.5        0.2       0\n",
      "4        5.0        3.6        1.4        0.2       0\n",
      "5        5.4        3.9        1.7        0.4       0\n",
      "6        4.6        3.4        1.4        0.3       0\n",
      "7        5.0        3.4        1.5        0.2       0\n",
      "8        4.4        2.9        1.4        0.2       0\n",
      "9        4.9        3.1        1.5        0.1       0\n",
      "\n",
      "DataFrame Setelah Seleksi Fitur:\n",
      "   selected_feature_1  selected_feature_2  target\n",
      "0                 1.4                 0.2       0\n",
      "1                 1.4                 0.2       0\n",
      "2                 1.3                 0.2       0\n",
      "3                 1.5                 0.2       0\n",
      "4                 1.4                 0.2       0\n",
      "5                 1.7                 0.4       0\n",
      "6                 1.4                 0.3       0\n",
      "7                 1.5                 0.2       0\n",
      "8                 1.4                 0.2       0\n",
      "9                 1.5                 0.1       0\n"
     ]
    }
   ],
   "source": [
    "\n",
    "    import pandas as pd\n",
    "    from sklearn.datasets import load_iris\n",
    "    from sklearn.feature_selection import SelectKBest\n",
    "    from sklearn.feature_selection import f_classif\n",
    "\n",
    "    # Load dataset contoh\n",
    "    iris = load_iris()\n",
    "    X = iris.data\n",
    "    y = iris.target\n",
    "\n",
    "    # Buat DataFrame\n",
    "    df = pd.DataFrame(data=X, columns=[f'feature_{i}' for i in range(X.shape[1])])\n",
    "    df['target'] = y\n",
    "\n",
    "    # Tampilan DataFrame asli\n",
    "    print(\"DataFrame Asli:\")\n",
    "    print(df.head(10))\n",
    "\n",
    "    # Seleksi Fitur dengan ANOVA (f_classif)\n",
    "    k_best = SelectKBest(score_func=f_classif, k=2)  # Pilih 2 fitur terbaik\n",
    "    X_selected = k_best.fit_transform(X, y)\n",
    "\n",
    "    # Tampilan DataFrame setelah seleksi fitur\n",
    "    selected_df = pd.DataFrame(data=X_selected, columns=['selected_feature_1', 'selected_feature_2'])\n",
    "    selected_df['target'] = y\n",
    "    print(\"\\nDataFrame Setelah Seleksi Fitur:\")\n",
    "    print(selected_df.head(10))"
   ]
  },
  {
   "cell_type": "markdown",
   "id": "a6a5b0ea-c5f7-401b-aba4-7263c15f5a96",
   "metadata": {},
   "source": [
    "### 5.8 Train Test Split"
   ]
  },
  {
   "cell_type": "code",
   "execution_count": 4,
   "id": "1ec78af5-e182-4f85-a974-b704b077336b",
   "metadata": {},
   "outputs": [
    {
     "name": "stdout",
     "output_type": "stream",
     "text": [
      "\n",
      "DataFrame Train Setelah Train-Test Split:\n",
      "     feature_0  feature_1  feature_2  feature_3  target\n",
      "91         6.1        3.0        4.6        1.4       1\n",
      "135        7.7        3.0        6.1        2.3       2\n",
      "69         5.6        2.5        3.9        1.1       1\n",
      "128        6.4        2.8        5.6        2.1       2\n",
      "114        5.8        2.8        5.1        2.4       2\n",
      "48         5.3        3.7        1.5        0.2       0\n",
      "53         5.5        2.3        4.0        1.3       1\n",
      "28         5.2        3.4        1.4        0.2       0\n",
      "54         6.5        2.8        4.6        1.5       1\n",
      "108        6.7        2.5        5.8        1.8       2\n",
      "\n",
      "DataFrame Test Setelah Train-Test Split:\n",
      "     feature_0  feature_1  feature_2  feature_3  target\n",
      "14         5.8        4.0        1.2        0.2       0\n",
      "98         5.1        2.5        3.0        1.1       1\n",
      "75         6.6        3.0        4.4        1.4       1\n",
      "16         5.4        3.9        1.3        0.4       0\n",
      "131        7.9        3.8        6.4        2.0       2\n",
      "56         6.3        3.3        4.7        1.6       1\n",
      "141        6.9        3.1        5.1        2.3       2\n",
      "44         5.1        3.8        1.9        0.4       0\n",
      "29         4.7        3.2        1.6        0.2       0\n",
      "120        6.9        3.2        5.7        2.3       2\n"
     ]
    }
   ],
   "source": [
    "from sklearn.model_selection import train_test_split\n",
    "\n",
    "# Train-Test Split (80% train, 20% test)\n",
    "train_df, test_df = train_test_split(df, test_size=0.2, random_state=1)\n",
    "print(\"\\nDataFrame Train Setelah Train-Test Split:\")\n",
    "print(train_df.head(10))\n",
    "print(\"\\nDataFrame Test Setelah Train-Test Split:\")\n",
    "print(test_df.head(10))"
   ]
  },
  {
   "cell_type": "code",
   "execution_count": null,
   "id": "3b1c0735-f1e2-49f1-8ed5-1f9a54632083",
   "metadata": {},
   "outputs": [],
   "source": []
  }
 ],
 "metadata": {
  "kernelspec": {
   "display_name": "Python 3 (ipykernel)",
   "language": "python",
   "name": "python3"
  },
  "language_info": {
   "codemirror_mode": {
    "name": "ipython",
    "version": 3
   },
   "file_extension": ".py",
   "mimetype": "text/x-python",
   "name": "python",
   "nbconvert_exporter": "python",
   "pygments_lexer": "ipython3",
   "version": "3.12.2"
  }
 },
 "nbformat": 4,
 "nbformat_minor": 5
}
